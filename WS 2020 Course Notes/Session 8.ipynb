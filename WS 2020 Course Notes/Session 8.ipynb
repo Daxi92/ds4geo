{
  "nbformat": 4,
  "nbformat_minor": 0,
  "metadata": {
    "colab": {
      "name": "Session 8.ipynb",
      "provenance": [],
      "authorship_tag": "ABX9TyMqVNUntYnK0VCE/7C471df",
      "include_colab_link": true
    },
    "kernelspec": {
      "name": "python3",
      "display_name": "Python 3"
    }
  },
  "cells": [
    {
      "cell_type": "markdown",
      "metadata": {
        "id": "view-in-github",
        "colab_type": "text"
      },
      "source": [
        "<a href=\"https://colab.research.google.com/github/ds4geo/ds4geo/blob/master/WS%202020%20Course%20Notes/Session%208.ipynb\" target=\"_parent\"><img src=\"https://colab.research.google.com/assets/colab-badge.svg\" alt=\"Open In Colab\"/></a>"
      ]
    },
    {
      "cell_type": "markdown",
      "metadata": {
        "id": "F9xCmP03ngbO"
      },
      "source": [
        "Session 8"
      ]
    },
    {
      "cell_type": "markdown",
      "metadata": {
        "id": "U9E15PqlngRw"
      },
      "source": [
        "Unsupervised ML\n",
        "PCA, clustering"
      ]
    },
    {
      "cell_type": "code",
      "metadata": {
        "id": "sEc2thaWnetT"
      },
      "source": [
        ""
      ],
      "execution_count": null,
      "outputs": []
    }
  ]
}