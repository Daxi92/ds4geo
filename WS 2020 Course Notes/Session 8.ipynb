{
  "nbformat": 4,
  "nbformat_minor": 0,
  "metadata": {
    "colab": {
      "name": "Session 8.ipynb",
      "provenance": [],
      "authorship_tag": "ABX9TyM4mPN6WJMgWXZaoILt7eoe",
      "include_colab_link": true
    },
    "kernelspec": {
      "name": "python3",
      "display_name": "Python 3"
    }
  },
  "cells": [
    {
      "cell_type": "markdown",
      "metadata": {
        "id": "view-in-github",
        "colab_type": "text"
      },
      "source": [
        "<a href=\"https://colab.research.google.com/github/ds4geo/ds4geo/blob/master/Session_8.ipynb\" target=\"_parent\"><img src=\"https://colab.research.google.com/assets/colab-badge.svg\" alt=\"Open In Colab\"/></a>"
      ]
    },
    {
      "cell_type": "markdown",
      "metadata": {
        "id": "F9xCmP03ngbO",
        "colab_type": "text"
      },
      "source": [
        "Session 7"
      ]
    },
    {
      "cell_type": "markdown",
      "metadata": {
        "id": "U9E15PqlngRw",
        "colab_type": "text"
      },
      "source": [
        "Unsupervised ML\n",
        "PCA, clustering"
      ]
    },
    {
      "cell_type": "code",
      "metadata": {
        "id": "sEc2thaWnetT",
        "colab_type": "code",
        "colab": {}
      },
      "source": [
        ""
      ],
      "execution_count": null,
      "outputs": []
    }
  ]
}
