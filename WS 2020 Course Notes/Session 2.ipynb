{
  "nbformat": 4,
  "nbformat_minor": 0,
  "metadata": {
    "colab": {
      "name": "DS4GEO_L2.ipynb",
      "provenance": [],
      "toc_visible": true,
      "authorship_tag": "ABX9TyPGDLnV1MWVdVCl2CR8KhO8",
      "include_colab_link": true
    },
    "kernelspec": {
      "name": "python3",
      "display_name": "Python 3"
    }
  },
  "cells": [
    {
      "cell_type": "markdown",
      "metadata": {
        "id": "view-in-github",
        "colab_type": "text"
      },
      "source": [
        "<a href=\"https://colab.research.google.com/github/ds4geo/ds4geo/blob/master/WS%202020%20Course%20Notes/Session%202.ipynb\" target=\"_parent\"><img src=\"https://colab.research.google.com/assets/colab-badge.svg\" alt=\"Open In Colab\"/></a>"
      ]
    },
    {
      "cell_type": "markdown",
      "metadata": {
        "id": "b3yfRRs6n8q0"
      },
      "source": [
        "# **Data Science for Geoscientists - Winter Semester 2020**\n",
        "# **Session 2 - Python Basics for Data Science - 14th October 2020**\n",
        "\n",
        "In the previous session, we handled data in a very simple way using the Pandas library. In this session we will introduce some basic python object types for handling data, and learn how to index/slice data (extract only certain parts of the data/object). Specifically, we will cover lists and dictionaries. We will also introduce the two most important python flow controls: if statements and for loops.\n",
        "\n",
        "\n",
        "\n"
      ]
    },
    {
      "cell_type": "markdown",
      "metadata": {
        "id": "wFeaRSt9TrSw"
      },
      "source": [
        "# Part 2.1 - Data Icebreaker - Data Skepticism - *Discussion*\n",
        "Discussion: The United States is the largest exporter of agricultural products in the world. Which country is second? Discuss why."
      ]
    },
    {
      "cell_type": "markdown",
      "metadata": {
        "id": "-sud-tcI8wph"
      },
      "source": [
        "# Part 2.2 - Student Submitted Datasets - Discussion\n",
        "\n",
        "Overview of submitted datasets here: https://github.com/ds4geo/ds4geo/blob/master/student_submitted_data/Assignment%201%20data%20catalogue.csv\n",
        "\n",
        "Uploaded data here: https://github.com/ds4geo/ds4geo/blob/master/student_submitted_data/\n",
        "\n",
        "Notable mentions:\n",
        "* Interesting data formats\n",
        " * SQL database\n",
        " * Shapefiles (geospatial)\n",
        "* Non-geological data\n",
        " * Meteorological\n",
        " * US politics\n",
        " * Archaeological site data\n",
        " * Greenland sociology data\n",
        "* Geological data:\n",
        " * Rock chemistries\n",
        " * Tectonic/structural data\n",
        " * All sorts of sediment core data\n",
        " * Surface processes and monitoring data\n",
        " * Much more\n"
      ]
    },
    {
      "cell_type": "markdown",
      "metadata": {
        "id": "p003MrAa9K7R"
      },
      "source": [
        "# Part 2.3 - Python Objects - *Walkthrough*\n",
        "\n",
        "Python has a number of in-built object types. More are provided by imported libraries, and it is possible to create new types.\n",
        "The type of an object determines how/what data is stored and what can be done with the object."
      ]
    },
    {
      "cell_type": "code",
      "metadata": {
        "id": "wayBUiQqKjhi",
        "outputId": "ee87cb12-cb51-4b4a-8e10-400a01c4ffa8",
        "colab": {
          "base_uri": "https://localhost:8080/",
          "height": 34
        }
      },
      "source": [
        "# Create object/variable \"a\" and assign integer value 5\n",
        "a = 5\n",
        "# See which type \"a\" is\n",
        "type(a)"
      ],
      "execution_count": 30,
      "outputs": [
        {
          "output_type": "execute_result",
          "data": {
            "text/plain": [
              "int"
            ]
          },
          "metadata": {
            "tags": []
          },
          "execution_count": 30
        }
      ]
    },
    {
      "cell_type": "code",
      "metadata": {
        "id": "vZZyzHwtm-n9",
        "outputId": "54986198-1344-48b9-dd48-b941b843f978",
        "colab": {
          "base_uri": "https://localhost:8080/",
          "height": 34
        }
      },
      "source": [
        "# Add an int to an int\n",
        "a + 2"
      ],
      "execution_count": 31,
      "outputs": [
        {
          "output_type": "execute_result",
          "data": {
            "text/plain": [
              "7"
            ]
          },
          "metadata": {
            "tags": []
          },
          "execution_count": 31
        }
      ]
    },
    {
      "cell_type": "code",
      "metadata": {
        "id": "8Sl5KaDtm-kS",
        "outputId": "5e07e53f-f700-4f70-d41d-2cf806771e11",
        "colab": {
          "base_uri": "https://localhost:8080/",
          "height": 34
        }
      },
      "source": [
        "# Create object \"b\" and assign float value 2.5\n",
        "b = 2.5\n",
        "# See which type \"b\" is\n",
        "type(b)"
      ],
      "execution_count": 32,
      "outputs": [
        {
          "output_type": "execute_result",
          "data": {
            "text/plain": [
              "float"
            ]
          },
          "metadata": {
            "tags": []
          },
          "execution_count": 32
        }
      ]
    },
    {
      "cell_type": "code",
      "metadata": {
        "id": "0bxcqi5Im-Zk",
        "outputId": "785600cb-423b-4ba5-df57-bac573a1d691",
        "colab": {
          "base_uri": "https://localhost:8080/",
          "height": 34
        }
      },
      "source": [
        "# Add an integer and a float\n",
        "a+b"
      ],
      "execution_count": 33,
      "outputs": [
        {
          "output_type": "execute_result",
          "data": {
            "text/plain": [
              "7.5"
            ]
          },
          "metadata": {
            "tags": []
          },
          "execution_count": 33
        }
      ]
    },
    {
      "cell_type": "code",
      "metadata": {
        "id": "ekgu4BVCnHzn",
        "outputId": "80f232e6-9908-4738-eedb-a176f69caf04",
        "colab": {
          "base_uri": "https://localhost:8080/",
          "height": 34
        }
      },
      "source": [
        "# Create some strings\n",
        "c = \"Geology \"\n",
        "d = \"Rocks!\"\n",
        "type(c)"
      ],
      "execution_count": 34,
      "outputs": [
        {
          "output_type": "execute_result",
          "data": {
            "text/plain": [
              "str"
            ]
          },
          "metadata": {
            "tags": []
          },
          "execution_count": 34
        }
      ]
    },
    {
      "cell_type": "code",
      "metadata": {
        "id": "U23_ROqSnHw8",
        "outputId": "2d2ea162-d64c-42bc-cf34-6da5161d50b9",
        "colab": {
          "base_uri": "https://localhost:8080/",
          "height": 35
        }
      },
      "source": [
        "# Concatenate strings with the + operator\n",
        "c+d"
      ],
      "execution_count": 35,
      "outputs": [
        {
          "output_type": "execute_result",
          "data": {
            "application/vnd.google.colaboratory.intrinsic+json": {
              "type": "string"
            },
            "text/plain": [
              "'Geology Rocks!'"
            ]
          },
          "metadata": {
            "tags": []
          },
          "execution_count": 35
        }
      ]
    },
    {
      "cell_type": "code",
      "metadata": {
        "id": "hFzyW0-mnHn3",
        "outputId": "b2410f4a-541b-4eb7-903e-d546ac60525a",
        "colab": {
          "base_uri": "https://localhost:8080/",
          "height": 34
        }
      },
      "source": [
        "# Create a list out of the objects we just made\n",
        "e = [a, b, c, d]\n",
        "type(e)"
      ],
      "execution_count": 36,
      "outputs": [
        {
          "output_type": "execute_result",
          "data": {
            "text/plain": [
              "list"
            ]
          },
          "metadata": {
            "tags": []
          },
          "execution_count": 36
        }
      ]
    },
    {
      "cell_type": "code",
      "metadata": {
        "id": "0sicLJURoc1s",
        "outputId": "60251a95-b6ca-41d5-f147-d554d53712f4",
        "colab": {
          "base_uri": "https://localhost:8080/",
          "height": 34
        }
      },
      "source": [
        "# View e\n",
        "e"
      ],
      "execution_count": 37,
      "outputs": [
        {
          "output_type": "execute_result",
          "data": {
            "text/plain": [
              "[5, 2.5, 'Geology ', 'Rocks!']"
            ]
          },
          "metadata": {
            "tags": []
          },
          "execution_count": 37
        }
      ]
    },
    {
      "cell_type": "code",
      "metadata": {
        "id": "VL_b3cNDsNRR"
      },
      "source": [
        "# Get help and info on an object:\n",
        "e?"
      ],
      "execution_count": 38,
      "outputs": []
    },
    {
      "cell_type": "code",
      "metadata": {
        "id": "4fqK4pwuokqF",
        "outputId": "3345030b-e167-4154-9bb0-882d2cbcc894",
        "colab": {
          "base_uri": "https://localhost:8080/",
          "height": 799
        }
      },
      "source": [
        "# Objects have methods depending on their type. Methods are functions applied on\n",
        "# an object.\n",
        "# Use dir to list object methods. Ignore those with form __x__\n",
        "dir(e)"
      ],
      "execution_count": 39,
      "outputs": [
        {
          "output_type": "execute_result",
          "data": {
            "text/plain": [
              "['__add__',\n",
              " '__class__',\n",
              " '__contains__',\n",
              " '__delattr__',\n",
              " '__delitem__',\n",
              " '__dir__',\n",
              " '__doc__',\n",
              " '__eq__',\n",
              " '__format__',\n",
              " '__ge__',\n",
              " '__getattribute__',\n",
              " '__getitem__',\n",
              " '__gt__',\n",
              " '__hash__',\n",
              " '__iadd__',\n",
              " '__imul__',\n",
              " '__init__',\n",
              " '__init_subclass__',\n",
              " '__iter__',\n",
              " '__le__',\n",
              " '__len__',\n",
              " '__lt__',\n",
              " '__mul__',\n",
              " '__ne__',\n",
              " '__new__',\n",
              " '__reduce__',\n",
              " '__reduce_ex__',\n",
              " '__repr__',\n",
              " '__reversed__',\n",
              " '__rmul__',\n",
              " '__setattr__',\n",
              " '__setitem__',\n",
              " '__sizeof__',\n",
              " '__str__',\n",
              " '__subclasshook__',\n",
              " 'append',\n",
              " 'clear',\n",
              " 'copy',\n",
              " 'count',\n",
              " 'extend',\n",
              " 'index',\n",
              " 'insert',\n",
              " 'pop',\n",
              " 'remove',\n",
              " 'reverse',\n",
              " 'sort']"
            ]
          },
          "metadata": {
            "tags": []
          },
          "execution_count": 39
        }
      ]
    },
    {
      "cell_type": "code",
      "metadata": {
        "id": "9pHuwZ3Lsj3N"
      },
      "source": [
        "# See help on \"append\" method\n",
        "e.append?"
      ],
      "execution_count": 40,
      "outputs": []
    },
    {
      "cell_type": "code",
      "metadata": {
        "id": "D2JKNHAls5R1",
        "outputId": "a92f6397-496e-47b3-f26e-2503a5a57e21",
        "colab": {
          "base_uri": "https://localhost:8080/",
          "height": 34
        }
      },
      "source": [
        "# Try appending something\n",
        "e.append(\"(Not really!)\")\n",
        "e"
      ],
      "execution_count": 41,
      "outputs": [
        {
          "output_type": "execute_result",
          "data": {
            "text/plain": [
              "[5, 2.5, 'Geology ', 'Rocks!', '(Not really!)']"
            ]
          },
          "metadata": {
            "tags": []
          },
          "execution_count": 41
        }
      ]
    },
    {
      "cell_type": "code",
      "metadata": {
        "id": "YdKY5E5ztB0S",
        "outputId": "c917e17f-517f-4186-ea56-a24f7d8b5b6c",
        "colab": {
          "base_uri": "https://localhost:8080/",
          "height": 198
        }
      },
      "source": [
        "# That's not right, perhaps the \"remove\" method can help:\n",
        "e.remove(\"5\")\n",
        "e"
      ],
      "execution_count": 42,
      "outputs": [
        {
          "output_type": "error",
          "ename": "ValueError",
          "evalue": "ignored",
          "traceback": [
            "\u001b[0;31m---------------------------------------------------------------------------\u001b[0m",
            "\u001b[0;31mValueError\u001b[0m                                Traceback (most recent call last)",
            "\u001b[0;32m<ipython-input-42-8856545497c7>\u001b[0m in \u001b[0;36m<module>\u001b[0;34m()\u001b[0m\n\u001b[1;32m      1\u001b[0m \u001b[0;31m# That's not right, perhaps the \"remove\" method can help:\u001b[0m\u001b[0;34m\u001b[0m\u001b[0;34m\u001b[0m\u001b[0;34m\u001b[0m\u001b[0m\n\u001b[0;32m----> 2\u001b[0;31m \u001b[0me\u001b[0m\u001b[0;34m.\u001b[0m\u001b[0mremove\u001b[0m\u001b[0;34m(\u001b[0m\u001b[0;34m\"5\"\u001b[0m\u001b[0;34m)\u001b[0m\u001b[0;34m\u001b[0m\u001b[0;34m\u001b[0m\u001b[0m\n\u001b[0m\u001b[1;32m      3\u001b[0m \u001b[0me\u001b[0m\u001b[0;34m\u001b[0m\u001b[0;34m\u001b[0m\u001b[0m\n",
            "\u001b[0;31mValueError\u001b[0m: list.remove(x): x not in list"
          ]
        }
      ]
    },
    {
      "cell_type": "code",
      "metadata": {
        "id": "LGY3SsKGtza3"
      },
      "source": [
        "# Overview of built-in types\n",
        "# Most common:\n",
        "my_list = [1,2,3] # list\n",
        "my_string = \"geology rocks\" # string\n",
        "my_int = 1 # integer\n",
        "my_float = 1.5 # float\n",
        "my_bool = True # boolean\n",
        "my_tuple = (1,2,3) # tuple\n",
        "my_dict = {\"key\": 2} # dictionary\n",
        "my_set = {1,2,3} # set\n",
        "\n",
        "# Code related types\n",
        "import pandas as pd\n",
        "pd # module\n",
        "pd.read_csv # function\n",
        "\"geology rocks\".strip # method or function"
      ],
      "execution_count": null,
      "outputs": []
    },
    {
      "cell_type": "markdown",
      "metadata": {
        "id": "EzeDN1bi9g5l"
      },
      "source": [
        "For more detail see:\n",
        "\n",
        "*   Cheat sheet - https://www.datacamp.com/community/tutorials/python-data-science-cheat-sheet-basics\n",
        "*   Good visualisation about lists - https://medium.com/@meghamohan/mutable-and-immutable-side-of-python-c2145cf72747\n",
        "*   Colab notebook examples - https://colab.research.google.com/github/jakevdp/PythonDataScienceHandbook/blob/master/notebooks/02.01-Understanding-Data-Types.ipynb\n",
        "*   Python docs on built-in types and their methods - https://docs.python.org/3/library/stdtypes.html\n",
        "\n"
      ]
    },
    {
      "cell_type": "markdown",
      "metadata": {
        "id": "1QMoY59BoZBt"
      },
      "source": [
        "# Part 2.4 - Lists, Dictionaries and Indexing - *Walkthrough*\n",
        "\n",
        "Lists and dictionaries are built-in python objects useful for storing and handling data."
      ]
    },
    {
      "cell_type": "markdown",
      "metadata": {
        "id": "JUvoXMscfpfj"
      },
      "source": [
        "## 2.2.1 - Lists\n",
        "Python lists are ordered collections of other python objects, separated by commas. They are defined by square brackets [ ]"
      ]
    },
    {
      "cell_type": "code",
      "metadata": {
        "id": "4RsAroYgmrqY",
        "outputId": "e9472586-541d-4bec-9d4d-11081e5a9cb5",
        "colab": {
          "base_uri": "https://localhost:8080/",
          "height": 34
        }
      },
      "source": [
        "a = [1,2,3] # List of integers\n",
        "print(\"a:\", a)"
      ],
      "execution_count": 43,
      "outputs": [
        {
          "output_type": "stream",
          "text": [
            "a: [1, 2, 3]\n"
          ],
          "name": "stdout"
        }
      ]
    },
    {
      "cell_type": "code",
      "metadata": {
        "id": "weayNS-GgUVp",
        "outputId": "fdc8fe07-89d4-4847-a614-c6663c382ac5",
        "colab": {
          "base_uri": "https://localhost:8080/",
          "height": 34
        }
      },
      "source": [
        "b = [1.5, 2.5, 3.5] # List of floats\n",
        "print(\"b:\", b)"
      ],
      "execution_count": 44,
      "outputs": [
        {
          "output_type": "stream",
          "text": [
            "b: [1.5, 2.5, 3.5]\n"
          ],
          "name": "stdout"
        }
      ]
    },
    {
      "cell_type": "code",
      "metadata": {
        "id": "MA3ekiYUgY8p",
        "outputId": "b6733dc1-ce3d-476c-be18-d19518cfd28b",
        "colab": {
          "base_uri": "https://localhost:8080/",
          "height": 34
        }
      },
      "source": [
        "# Lists can contain different types\n",
        "c = [1, \"data\", 2.5]\n",
        "print(\"b:\", b)"
      ],
      "execution_count": 45,
      "outputs": [
        {
          "output_type": "stream",
          "text": [
            "b: [1.5, 2.5, 3.5]\n"
          ],
          "name": "stdout"
        }
      ]
    },
    {
      "cell_type": "code",
      "metadata": {
        "id": "akKnjM3dgZW-",
        "outputId": "b67d6632-f149-43dc-e264-3c2296a314fa",
        "colab": {
          "base_uri": "https://localhost:8080/",
          "height": 34
        }
      },
      "source": [
        "# Including other lists (nested)\n",
        "d = [[1,2,3], [4,5,6]]\n",
        "print(\"d:\", d)"
      ],
      "execution_count": 46,
      "outputs": [
        {
          "output_type": "stream",
          "text": [
            "d: [[1, 2, 3], [4, 5, 6]]\n"
          ],
          "name": "stdout"
        }
      ]
    },
    {
      "cell_type": "code",
      "metadata": {
        "id": "tDFB-lJ4gZHe",
        "outputId": "a019fb2f-4495-4617-ca02-9cdb329390e6",
        "colab": {
          "base_uri": "https://localhost:8080/",
          "height": 34
        }
      },
      "source": [
        "e = [a, b]\n",
        "print(\"e:\", e)"
      ],
      "execution_count": 47,
      "outputs": [
        {
          "output_type": "stream",
          "text": [
            "e: [[1, 2, 3], [1.5, 2.5, 3.5]]\n"
          ],
          "name": "stdout"
        }
      ]
    },
    {
      "cell_type": "code",
      "metadata": {
        "id": "gzjXALvu71A1",
        "outputId": "cade58f1-3228-40dc-be90-4a6bf2e48085",
        "colab": {
          "base_uri": "https://localhost:8080/",
          "height": 54
        }
      },
      "source": [
        "# They can contain any other python objects\n",
        "import pandas as pd\n",
        "import numpy as np\n",
        "import matplotlib.pyplot as plt\n",
        "f = [pd, np, plt] # But there's no reason to actually do this\n",
        "print(\"f:\", f)"
      ],
      "execution_count": 48,
      "outputs": [
        {
          "output_type": "stream",
          "text": [
            "f: [<module 'pandas' from '/usr/local/lib/python3.6/dist-packages/pandas/__init__.py'>, <module 'numpy' from '/usr/local/lib/python3.6/dist-packages/numpy/__init__.py'>, <module 'matplotlib.pyplot' from '/usr/local/lib/python3.6/dist-packages/matplotlib/pyplot.py'>]\n"
          ],
          "name": "stdout"
        }
      ]
    },
    {
      "cell_type": "code",
      "metadata": {
        "id": "wEnPisV-8UT5",
        "outputId": "e7ec6c4c-4ce5-4dc1-8947-95bb444a581c",
        "colab": {
          "base_uri": "https://localhost:8080/",
          "height": 34
        }
      },
      "source": [
        "# Earlier, you'll recall dir() can be used to find methods on objects\n",
        "a = [1, 2, 3]\n",
        "# Append adds a new item to the end of a list\n",
        "a.append(4)\n",
        "print(\"a:\", a)"
      ],
      "execution_count": 49,
      "outputs": [
        {
          "output_type": "stream",
          "text": [
            "a: [1, 2, 3, 4]\n"
          ],
          "name": "stdout"
        }
      ]
    },
    {
      "cell_type": "code",
      "metadata": {
        "id": "AH0maqWagjGy",
        "outputId": "bf352276-0629-4bd0-fcd4-be83c4dd7a88",
        "colab": {
          "base_uri": "https://localhost:8080/",
          "height": 34
        }
      },
      "source": [
        "# Extend joins to lists *in place*\n",
        "a.extend(b) # notice we don't assign a result\n",
        "print(\"a:\", a)"
      ],
      "execution_count": 50,
      "outputs": [
        {
          "output_type": "stream",
          "text": [
            "a: [1, 2, 3, 4, 1.5, 2.5, 3.5]\n"
          ],
          "name": "stdout"
        }
      ]
    },
    {
      "cell_type": "code",
      "metadata": {
        "id": "LCrIRRz6ggVN",
        "outputId": "0cf1306f-c908-4aa5-a0bc-97ba3f858216",
        "colab": {
          "base_uri": "https://localhost:8080/",
          "height": 34
        }
      },
      "source": [
        "# + operator when applied to two lists but not *in place*:\n",
        "h = a + b\n",
        "print(\"h:\", h)"
      ],
      "execution_count": 51,
      "outputs": [
        {
          "output_type": "stream",
          "text": [
            "h: [1, 2, 3, 4, 1.5, 2.5, 3.5, 1.5, 2.5, 3.5]\n"
          ],
          "name": "stdout"
        }
      ]
    },
    {
      "cell_type": "code",
      "metadata": {
        "id": "LojuTdI2geNW",
        "outputId": "20a00268-39de-444d-a9a2-6ab239f2b0e3",
        "colab": {
          "base_uri": "https://localhost:8080/",
          "height": 34
        }
      },
      "source": [
        "# sort does what it suggests, in place\n",
        "a.sort()\n",
        "print(\"a:\", a)"
      ],
      "execution_count": 52,
      "outputs": [
        {
          "output_type": "stream",
          "text": [
            "a: [1, 1.5, 2, 2.5, 3, 3.5, 4]\n"
          ],
          "name": "stdout"
        }
      ]
    },
    {
      "cell_type": "code",
      "metadata": {
        "id": "lKvxYMn-8JD5"
      },
      "source": [
        "# Tuples are another type very similar to lists except they can't be modified\n",
        "# i.e. you cannot append to a tuple\n",
        "# They are defined by parentheses ( ) instead of [ ]\n",
        "a_tuple = (1, 2, 3)\n",
        "print(\"a_tuple:\", a_tuple)\n",
        "\n",
        "# The specific reasons for using tuples complex.\n",
        "# You will see them in documentation, but usually you can just use a list"
      ],
      "execution_count": null,
      "outputs": []
    },
    {
      "cell_type": "markdown",
      "metadata": {
        "id": "wKya8c8A-KeZ"
      },
      "source": [
        "## 2.2.2 - Dictionaries\n",
        "Python dictionaries are un-ordered collections of pairs known as keys and values. They function like language dictionaries where you look up a word (they key) and see its definition or translation (value).\n",
        "They are defined with braces { }, separated by commas, and colons : indicate the key-value relationships."
      ]
    },
    {
      "cell_type": "code",
      "metadata": {
        "id": "jzjLEC7z-96o",
        "outputId": "2e870bd6-d315-4c46-fbdd-0a2251722af0",
        "colab": {
          "base_uri": "https://localhost:8080/",
          "height": 34
        }
      },
      "source": [
        "# Create a simple German to English language dictionary\n",
        "De2En = {\"Bier\": \"Beer\", \"Wurst\": \"Sausage\"}\n",
        "print(De2En)"
      ],
      "execution_count": 66,
      "outputs": [
        {
          "output_type": "stream",
          "text": [
            "{'Bier': 'Beer', 'Wurst': 'Sausage'}\n"
          ],
          "name": "stdout"
        }
      ]
    },
    {
      "cell_type": "code",
      "metadata": {
        "id": "KaUHPzL5gqUu",
        "outputId": "ed429057-a886-40ce-e5b9-0f060eb2c702",
        "colab": {
          "base_uri": "https://localhost:8080/",
          "height": 34
        }
      },
      "source": [
        "# When making lists and dictionaries, you can wrap between lines for readability:\n",
        "De2En = {\"Bier\": \"Beer\",\n",
        "         \"Wurst\": \"Sausage\",\n",
        "         \"Kren\": \"Horseradish\"}\n",
        "print(De2En)"
      ],
      "execution_count": 67,
      "outputs": [
        {
          "output_type": "stream",
          "text": [
            "{'Bier': 'Beer', 'Wurst': 'Sausage', 'Kren': 'Horseradish'}\n"
          ],
          "name": "stdout"
        }
      ]
    },
    {
      "cell_type": "code",
      "metadata": {
        "id": "VGWQ6DiUmXfv"
      },
      "source": [
        "# Values can be any python object, e.g. lists:\n",
        "rocks = {\"igneous\": [\"Granite\", \"Basalt\", \"Rhyolite\"],\n",
        "         \"Sedimentary\": [\"Sandstone\", \"Limestone\"]}"
      ],
      "execution_count": 68,
      "outputs": []
    },
    {
      "cell_type": "code",
      "metadata": {
        "id": "qx-aVs-1g9GZ"
      },
      "source": [
        "# Keys can be some python objects (int, float, string, tuple), but not others (lists or dicts)\n",
        "# Keys and values do not all have to be the same type\n",
        "complex_dict = {0: \"zero\",\n",
        "                \"one point 5\": 1.5,\n",
        "                2.5: [\"two\", \"point\", \"five\"]}"
      ],
      "execution_count": 69,
      "outputs": []
    },
    {
      "cell_type": "code",
      "metadata": {
        "id": "uUzEaBPAg75G"
      },
      "source": [
        "# Dictionaries can also be nested like lists.\n",
        "# Note the nesting is multi-line and aligned to improve readability\n",
        "rock_dict = {\"granite\": {\"type\": \"igneous\",\n",
        "                         \"composition\": {\"quartz\": 0.5,\n",
        "                                         \"feldspar\": 0.2},\n",
        "                         \"locations\": [(50.59671,-3.98289),\n",
        "                                       (50.59591,-4.61987)]},\n",
        "             \"sandstone\": {}}"
      ],
      "execution_count": 70,
      "outputs": []
    },
    {
      "cell_type": "markdown",
      "metadata": {
        "id": "G8WSM2Z7_Mq0"
      },
      "source": [
        "## 2.2.3 - List and Dictionary Indexing\n",
        "You can select objects/data from lists and dictionaries using square brackets [ ].\n",
        "List indexing is based on numeric positions, while dictionary indexing is based on its keys.\n",
        "\n",
        "**Note** python positional indexing (for lists, numpy, pandas, etc) always starts at 0. i.e. the first item is 0. This might seem counter intuitive at first, but when combined with some other features of python, it actually simplifies code in many situations!"
      ]
    },
    {
      "cell_type": "code",
      "metadata": {
        "id": "Ktp65NaU_hFz",
        "outputId": "96fe0ee2-ded4-4f6b-c983-e3286dc833e7",
        "colab": {
          "base_uri": "https://localhost:8080/",
          "height": 34
        }
      },
      "source": [
        "# Remind ourselves what is in variable \"c\"\n",
        "print(c)"
      ],
      "execution_count": 53,
      "outputs": [
        {
          "output_type": "stream",
          "text": [
            "[1, 'data', 2.5]\n"
          ],
          "name": "stdout"
        }
      ]
    },
    {
      "cell_type": "code",
      "metadata": {
        "id": "ZX8HzpNphDnu",
        "outputId": "f145104f-1a4e-40ad-d646-3852a12e5e28",
        "colab": {
          "base_uri": "https://localhost:8080/",
          "height": 68
        }
      },
      "source": [
        "# Print positions 0, 1 and 2 of list \"c\"\n",
        "print(c[0])\n",
        "print(c[1])\n",
        "print(c[2])"
      ],
      "execution_count": 54,
      "outputs": [
        {
          "output_type": "stream",
          "text": [
            "1\n",
            "data\n",
            "2.5\n"
          ],
          "name": "stdout"
        }
      ]
    },
    {
      "cell_type": "code",
      "metadata": {
        "id": "kUl0Hm56swWn",
        "outputId": "b4a735f7-cfc8-4aa3-e32f-d5294f1d81cb",
        "colab": {
          "base_uri": "https://localhost:8080/",
          "height": 215
        }
      },
      "source": [
        "# If we try to index a position beyond the size of the list, we get an index error\n",
        "# Uncomment this line to try it.\n",
        "# (It is commented out so you can run all the code in this notebook without generating an error)\n",
        "#print(c[3])"
      ],
      "execution_count": 55,
      "outputs": [
        {
          "output_type": "error",
          "ename": "IndexError",
          "evalue": "ignored",
          "traceback": [
            "\u001b[0;31m---------------------------------------------------------------------------\u001b[0m",
            "\u001b[0;31mIndexError\u001b[0m                                Traceback (most recent call last)",
            "\u001b[0;32m<ipython-input-55-de7a6d270519>\u001b[0m in \u001b[0;36m<module>\u001b[0;34m()\u001b[0m\n\u001b[1;32m      2\u001b[0m \u001b[0;31m# Uncomment this line to try it.\u001b[0m\u001b[0;34m\u001b[0m\u001b[0;34m\u001b[0m\u001b[0;34m\u001b[0m\u001b[0m\n\u001b[1;32m      3\u001b[0m \u001b[0;31m# (It is commented out so you can run all the code in this notebook without generating an error)\u001b[0m\u001b[0;34m\u001b[0m\u001b[0;34m\u001b[0m\u001b[0;34m\u001b[0m\u001b[0m\n\u001b[0;32m----> 4\u001b[0;31m \u001b[0mprint\u001b[0m\u001b[0;34m(\u001b[0m\u001b[0mc\u001b[0m\u001b[0;34m[\u001b[0m\u001b[0;36m3\u001b[0m\u001b[0;34m]\u001b[0m\u001b[0;34m)\u001b[0m\u001b[0;34m\u001b[0m\u001b[0;34m\u001b[0m\u001b[0m\n\u001b[0m",
            "\u001b[0;31mIndexError\u001b[0m: list index out of range"
          ]
        }
      ]
    },
    {
      "cell_type": "code",
      "metadata": {
        "id": "UPKTGv5gs9Zc",
        "outputId": "7c15ffde-c904-46a0-d433-c05c31489956",
        "colab": {
          "base_uri": "https://localhost:8080/",
          "height": 51
        }
      },
      "source": [
        "# List indexing also works with negative numbers in reverse, with -1 being the last index\n",
        "print(c)\n",
        "print(c[-1]) # the last item in c"
      ],
      "execution_count": 56,
      "outputs": [
        {
          "output_type": "stream",
          "text": [
            "[1, 'data', 2.5]\n",
            "2.5\n"
          ],
          "name": "stdout"
        }
      ]
    },
    {
      "cell_type": "code",
      "metadata": {
        "id": "0pQdDsxdtAVD",
        "outputId": "cd757dd2-0e93-4a73-e1ed-0fb50083f9cd",
        "colab": {
          "base_uri": "https://localhost:8080/",
          "height": 68
        }
      },
      "source": [
        "# With nested objects, indexing can be stacked with sets of square brackets [ ][ ]\n",
        "print(d)\n",
        "print(d[1])\n",
        "print(d[1][2])"
      ],
      "execution_count": 57,
      "outputs": [
        {
          "output_type": "stream",
          "text": [
            "[[1, 2, 3], [4, 5, 6]]\n",
            "[4, 5, 6]\n",
            "6\n"
          ],
          "name": "stdout"
        }
      ]
    },
    {
      "cell_type": "code",
      "metadata": {
        "id": "o6LzIarTuicP",
        "outputId": "40c3c16c-146b-464b-b5a8-8b92f0c33740",
        "colab": {
          "base_uri": "https://localhost:8080/",
          "height": 198
        }
      },
      "source": [
        "# Indexing tuples and strings works exactly the same way\n",
        "print(a_tuple)\n",
        "print(a_tuple[0])"
      ],
      "execution_count": 58,
      "outputs": [
        {
          "output_type": "error",
          "ename": "NameError",
          "evalue": "ignored",
          "traceback": [
            "\u001b[0;31m---------------------------------------------------------------------------\u001b[0m",
            "\u001b[0;31mNameError\u001b[0m                                 Traceback (most recent call last)",
            "\u001b[0;32m<ipython-input-58-b0395059f63c>\u001b[0m in \u001b[0;36m<module>\u001b[0;34m()\u001b[0m\n\u001b[1;32m      1\u001b[0m \u001b[0;31m# Indexing tuples and strings works exactly the same way\u001b[0m\u001b[0;34m\u001b[0m\u001b[0;34m\u001b[0m\u001b[0;34m\u001b[0m\u001b[0m\n\u001b[0;32m----> 2\u001b[0;31m \u001b[0mprint\u001b[0m\u001b[0;34m(\u001b[0m\u001b[0ma_tuple\u001b[0m\u001b[0;34m)\u001b[0m\u001b[0;34m\u001b[0m\u001b[0;34m\u001b[0m\u001b[0m\n\u001b[0m\u001b[1;32m      3\u001b[0m \u001b[0mprint\u001b[0m\u001b[0;34m(\u001b[0m\u001b[0ma_tuple\u001b[0m\u001b[0;34m[\u001b[0m\u001b[0;36m0\u001b[0m\u001b[0;34m]\u001b[0m\u001b[0;34m)\u001b[0m\u001b[0;34m\u001b[0m\u001b[0;34m\u001b[0m\u001b[0m\n",
            "\u001b[0;31mNameError\u001b[0m: name 'a_tuple' is not defined"
          ]
        }
      ]
    },
    {
      "cell_type": "code",
      "metadata": {
        "id": "1H2PssishKsK",
        "outputId": "ddbadf21-1c8e-4143-93ac-978fff49ba62",
        "colab": {
          "base_uri": "https://localhost:8080/",
          "height": 68
        }
      },
      "source": [
        "print(c)\n",
        "print(c[1])\n",
        "print(c[1][2])"
      ],
      "execution_count": 59,
      "outputs": [
        {
          "output_type": "stream",
          "text": [
            "[1, 'data', 2.5]\n",
            "data\n",
            "t\n"
          ],
          "name": "stdout"
        }
      ]
    },
    {
      "cell_type": "code",
      "metadata": {
        "id": "rcox6VdWuw4T",
        "outputId": "c8f5a5cc-efb5-4c5f-f956-973147601afa",
        "colab": {
          "base_uri": "https://localhost:8080/",
          "height": 51
        }
      },
      "source": [
        "# For lists, tuples and strings (and numpy - see later), ranges also work.\n",
        "# Ranges are \"half-open\", i.e. include the first index, but not the last.\n",
        "# This is so when you use a range of e.g. 2:4, you get a result of length 2, despite indexing starting at 0\n",
        "print(a)\n",
        "print(a[2:4])"
      ],
      "execution_count": 60,
      "outputs": [
        {
          "output_type": "stream",
          "text": [
            "[1, 1.5, 2, 2.5, 3, 3.5, 4]\n",
            "[2, 2.5]\n"
          ],
          "name": "stdout"
        }
      ]
    },
    {
      "cell_type": "code",
      "metadata": {
        "id": "XEXjAkKki02n",
        "outputId": "24cba16b-a1ea-4eba-8f5d-5cf37827a629",
        "colab": {
          "base_uri": "https://localhost:8080/",
          "height": 34
        }
      },
      "source": [
        "# Leaving out a number:\n",
        "# Everything after position 2:\n",
        "print(a[2:])"
      ],
      "execution_count": 61,
      "outputs": [
        {
          "output_type": "stream",
          "text": [
            "[2, 2.5, 3, 3.5, 4]\n"
          ],
          "name": "stdout"
        }
      ]
    },
    {
      "cell_type": "code",
      "metadata": {
        "id": "rVpTNG3ZhO4L",
        "outputId": "4fd15744-ffd6-4acf-8e72-37111ce967f1",
        "colab": {
          "base_uri": "https://localhost:8080/",
          "height": 34
        }
      },
      "source": [
        "# Everything before position 4:\n",
        "print(a[:4])"
      ],
      "execution_count": 62,
      "outputs": [
        {
          "output_type": "stream",
          "text": [
            "[1, 1.5, 2, 2.5]\n"
          ],
          "name": "stdout"
        }
      ]
    },
    {
      "cell_type": "code",
      "metadata": {
        "id": "U7jlEDI0i3M5",
        "outputId": "ca7380e5-a86f-484c-d2e0-5c4853a11045",
        "colab": {
          "base_uri": "https://localhost:8080/",
          "height": 34
        }
      },
      "source": [
        "# A third number can be added to define the step.\n",
        "# for example, take every 2nd item from 0 to 5th position of a:\n",
        "print(a[0:5:2])"
      ],
      "execution_count": 63,
      "outputs": [
        {
          "output_type": "stream",
          "text": [
            "[1, 2, 3]\n"
          ],
          "name": "stdout"
        }
      ]
    },
    {
      "cell_type": "code",
      "metadata": {
        "id": "BP8yaCAMhQC4",
        "outputId": "086d5480-a17d-4e69-e2cf-6705278881d3",
        "colab": {
          "base_uri": "https://localhost:8080/",
          "height": 34
        }
      },
      "source": [
        "# Or take every second item from the whole list:\n",
        "print(a[::2])"
      ],
      "execution_count": 64,
      "outputs": [
        {
          "output_type": "stream",
          "text": [
            "[1, 2, 3, 4]\n"
          ],
          "name": "stdout"
        }
      ]
    },
    {
      "cell_type": "code",
      "metadata": {
        "id": "BoHF-i6ExPp9",
        "outputId": "8bbb8592-8ca4-4482-87ea-353998f66643",
        "colab": {
          "base_uri": "https://localhost:8080/",
          "height": 68
        }
      },
      "source": [
        "# Also useful is finding the length of lists, dicts and strings:\n",
        "print(\"length of list a:\", len(a))\n",
        "print(\"length of dict rocks:\", len(rocks))\n",
        "print(\"length of string in position 1 of list c:\", len(c[1]))"
      ],
      "execution_count": 71,
      "outputs": [
        {
          "output_type": "stream",
          "text": [
            "length of list a: 7\n",
            "length of dict rocks: 2\n",
            "length of string in position 1 of list c: 4\n"
          ],
          "name": "stdout"
        }
      ]
    },
    {
      "cell_type": "code",
      "metadata": {
        "id": "e8qYiVWyfHPP",
        "outputId": "8f3df76b-cf0d-4efb-a560-f2a3fd3112be",
        "colab": {
          "base_uri": "https://localhost:8080/",
          "height": 35
        }
      },
      "source": [
        "len(c[1])"
      ],
      "execution_count": 73,
      "outputs": [
        {
          "output_type": "execute_result",
          "data": {
            "application/vnd.google.colaboratory.intrinsic+json": {
              "type": "string"
            },
            "text/plain": [
              "'data'"
            ]
          },
          "metadata": {
            "tags": []
          },
          "execution_count": 73
        }
      ]
    },
    {
      "cell_type": "code",
      "metadata": {
        "id": "E0XESPXRypsz",
        "outputId": "6c1950e0-32c8-4e28-fa2f-e7687a7df903",
        "colab": {
          "base_uri": "https://localhost:8080/",
          "height": 34
        }
      },
      "source": [
        "# Dictionaries are indexed by their keys:\n",
        "print(De2En[\"Bier\"])"
      ],
      "execution_count": 74,
      "outputs": [
        {
          "output_type": "stream",
          "text": [
            "Beer\n"
          ],
          "name": "stdout"
        }
      ]
    },
    {
      "cell_type": "code",
      "metadata": {
        "id": "hp-wca1vhUEf",
        "outputId": "df0e7f9c-b9de-4057-d342-2f8dee355a20",
        "colab": {
          "base_uri": "https://localhost:8080/",
          "height": 122
        }
      },
      "source": [
        "# And example of indexing nested objects\n",
        "print(rocks[\"igneous\"])\n",
        "print(rocks[\"igneous\"][1])\n",
        "print(rock_dict[\"granite\"])\n",
        "print(rock_dict[\"granite\"][\"composition\"])\n",
        "print(rock_dict[\"granite\"][\"composition\"][\"quartz\"])"
      ],
      "execution_count": 75,
      "outputs": [
        {
          "output_type": "stream",
          "text": [
            "['Granite', 'Basalt', 'Rhyolite']\n",
            "Basalt\n",
            "{'type': 'igneous', 'composition': {'quartz': 0.5, 'feldspar': 0.2}, 'locations': [(50.59671, -3.98289), (50.59591, -4.61987)]}\n",
            "{'quartz': 0.5, 'feldspar': 0.2}\n",
            "0.5\n"
          ],
          "name": "stdout"
        }
      ]
    },
    {
      "cell_type": "code",
      "metadata": {
        "id": "qxxkP3Z3z7rE",
        "outputId": "85ad0c79-ec14-4f5d-b172-e180f9c8e37b",
        "colab": {
          "base_uri": "https://localhost:8080/",
          "height": 51
        }
      },
      "source": [
        "# You can also expand dictionaries using indexing assignment:\n",
        "print(De2En)\n",
        "De2En[\"Semmel\"] = \"Bread roll\"\n",
        "print(De2En)"
      ],
      "execution_count": 76,
      "outputs": [
        {
          "output_type": "stream",
          "text": [
            "{'Bier': 'Beer', 'Wurst': 'Sausage', 'Kren': 'Horseradish'}\n",
            "{'Bier': 'Beer', 'Wurst': 'Sausage', 'Kren': 'Horseradish', 'Semmel': 'Bread roll'}\n"
          ],
          "name": "stdout"
        }
      ]
    },
    {
      "cell_type": "code",
      "metadata": {
        "id": "bqQGNe3JhX9h",
        "outputId": "36054b55-510e-4ae1-eda6-8d981086b011",
        "colab": {
          "base_uri": "https://localhost:8080/",
          "height": 71
        }
      },
      "source": [
        "print(rocks)\n",
        "rocks[\"metamorphic\"] = [\"Gneiss, Schist\"]\n",
        "print(rocks)"
      ],
      "execution_count": 77,
      "outputs": [
        {
          "output_type": "stream",
          "text": [
            "{'igneous': ['Granite', 'Basalt', 'Rhyolite'], 'Sedimentary': ['Sandstone', 'Limestone']}\n",
            "{'igneous': ['Granite', 'Basalt', 'Rhyolite'], 'Sedimentary': ['Sandstone', 'Limestone'], 'metamorphic': ['Gneiss, Schist']}\n"
          ],
          "name": "stdout"
        }
      ]
    },
    {
      "cell_type": "code",
      "metadata": {
        "id": "4tktNc5E0PLa",
        "outputId": "18ba9809-2f2b-4854-9e14-6ce30591956c",
        "colab": {
          "base_uri": "https://localhost:8080/",
          "height": 34
        }
      },
      "source": [
        "# And you can use methods on the objects indexed:\n",
        "rocks[\"igneous\"].append(\"Gabbro\")\n",
        "print(rocks)"
      ],
      "execution_count": 78,
      "outputs": [
        {
          "output_type": "stream",
          "text": [
            "{'igneous': ['Granite', 'Basalt', 'Rhyolite', 'Gabbro'], 'Sedimentary': ['Sandstone', 'Limestone'], 'metamorphic': ['Gneiss, Schist']}\n"
          ],
          "name": "stdout"
        }
      ]
    },
    {
      "cell_type": "markdown",
      "metadata": {
        "id": "fsRGvHu6FvuE"
      },
      "source": [
        "# Part 2.5 - Indexing excercise - *Workshop: 15 minutes*\n",
        "Follow the instructions below."
      ]
    },
    {
      "cell_type": "code",
      "metadata": {
        "id": "jKY-fbhLGAkm"
      },
      "source": [
        "# From this list\n",
        "base_list = [\"a\", \"b\", \"c\", \"d\", \"e\",\n",
        "             \"f\", \"g\", \"h\", \"i\", \"j\",\n",
        "             \"k\", \"l\", \"m\", \"n\", \"o\",\n",
        "             \"p\", \"q\", \"r\", \"s\", \"t\",\n",
        "             \"u\", \"v\", \"w\", \"x\", \"y\", \"z\"]"
      ],
      "execution_count": 80,
      "outputs": []
    },
    {
      "cell_type": "code",
      "metadata": {
        "id": "OVZ1cH8qkbNf"
      },
      "source": [
        "# Create the following lists from base_list using indexing (e.g. print(base_list[0])):\n",
        "# 1. [\"a\", \"b\", \"c\", \"d\", \"e\"]\n",
        "# 2. [\"x\", \"y\", \"z\"]\n",
        "# 3. [\"a\", \"f\", \"k\", \"p\", \"u\", \"z\"]\n",
        "# 4. [\"m\", \"p\", \"s\", \"v\", \"y\"]\n"
      ],
      "execution_count": null,
      "outputs": []
    },
    {
      "cell_type": "code",
      "metadata": {
        "id": "VxmyWHm9jEoN",
        "outputId": "e1714315-ad29-4cc2-add4-6b1929c2deb3",
        "colab": {
          "base_uri": "https://localhost:8080/",
          "height": 34
        }
      },
      "source": [
        "base_list[0:5]"
      ],
      "execution_count": 82,
      "outputs": [
        {
          "output_type": "execute_result",
          "data": {
            "text/plain": [
              "['a', 'b', 'c', 'd', 'e']"
            ]
          },
          "metadata": {
            "tags": []
          },
          "execution_count": 82
        }
      ]
    },
    {
      "cell_type": "code",
      "metadata": {
        "id": "_Iwmic3QlKJQ"
      },
      "source": [
        "# 5. From the dictionary \"rocks\", get the last sedimentary rock type\n",
        "# 6. From the dictionary \"complex_dict\", get the string \"five\"\n",
        "# 7. From the dictionary \"rock_dict\", get the y coordinate of the second location of granite\n"
      ],
      "execution_count": null,
      "outputs": []
    },
    {
      "cell_type": "markdown",
      "metadata": {
        "id": "sR5h6LKgnA6-"
      },
      "source": [
        "# Part 2.6 - Advanced/Object Based Plotting - *Workshop: 10 minutes*\n",
        "\n",
        "Matplotlib provides a more advanced system for plotting and controlling figures. One explicitly creates figure and axes object and uses their methods to control all aspects of creating figures.\n",
        "\n",
        "**Task**:\n",
        "Create a plot with both the LR04 and NGRIP records (see see Session 1) with a shared x axis but separate y axes, and view only the time period covered by both records.\n",
        "\n",
        "Try using `plt.subplots` to create a figure and axis which you can then use for plotting. `ax.twinx` will also be useful.\n",
        "\n",
        "Use code completion and the help documentation. The help documentation usually contains a useful examples section.\n",
        "\n",
        "Remember to comment your code!"
      ]
    },
    {
      "cell_type": "code",
      "metadata": {
        "id": "FPGiPeh4K-PM"
      },
      "source": [
        ""
      ],
      "execution_count": null,
      "outputs": []
    },
    {
      "cell_type": "markdown",
      "metadata": {
        "id": "uUByJuKsb7y2"
      },
      "source": [
        "#Part 2.7 - Python flow controls - *Walkthrough*\n",
        "Flow controls turn scripting lists of commands into complex programs.\n",
        "There are two main types:\n",
        "* **If** statements which allow code to be executed based on a decision statement.\n",
        "* **Loops** which allow a program to run through the same block of code many times.\n",
        "If statements and loops are often used in combination.\n",
        "\n",
        "Most languages use parentheses or curly brackets to indicate the code which defines the decision or loop, along with the code to be executed based on the decision or within the loop. Python however follows a different approach.\n",
        "If statements and loops (along with a number of other more advanced statements) are defined by indentation with spaces or tabs. The number of spaces or tabs does not matter, but 4 spaces if typical.\n",
        "\n",
        "A helpful resource for constructing python code with flow controls from block diagrams can be found here (be sure to select python as the language):\n",
        "\n",
        "https://developers.google.com/blockly\n",
        "\n",
        "If you are not familiar with python syntax, this tool might be quite helpful!"
      ]
    },
    {
      "cell_type": "markdown",
      "metadata": {
        "id": "5mOchuoPcF4L"
      },
      "source": [
        "## Part 2.7.1 If statements\n",
        "If statements contain a condition which should evaluate to True or False, followed by an indented block to execute if the condition is True. Optionally also an else statement followed by a block to execute if the condition is False.\n",
        "\n",
        "```\n",
        "if <condition>:\n",
        "      <code if true>\n",
        "else:\n",
        "      <code if false>\n",
        "```\n"
      ]
    },
    {
      "cell_type": "code",
      "metadata": {
        "id": "8EW3fEDtu5__",
        "outputId": "dd3e709b-ec7f-4c9d-f639-a33d600c33f0",
        "colab": {
          "base_uri": "https://localhost:8080/",
          "height": 34
        }
      },
      "source": [
        "a = 5\n",
        "5>10"
      ],
      "execution_count": 85,
      "outputs": [
        {
          "output_type": "execute_result",
          "data": {
            "text/plain": [
              "False"
            ]
          },
          "metadata": {
            "tags": []
          },
          "execution_count": 85
        }
      ]
    },
    {
      "cell_type": "code",
      "metadata": {
        "id": "fmUwjybEeYvs",
        "outputId": "a132d6ca-1b2e-4228-c5e5-bb0668552499",
        "colab": {
          "base_uri": "https://localhost:8080/",
          "height": 34
        }
      },
      "source": [
        "a = 5\n",
        "if a > 1: # test, is a greater than 1\n",
        "  # Indented block with code if above is True\n",
        "  print(a, \"is greater than 1\")"
      ],
      "execution_count": 86,
      "outputs": [
        {
          "output_type": "stream",
          "text": [
            "5 is greater than 1\n"
          ],
          "name": "stdout"
        }
      ]
    },
    {
      "cell_type": "code",
      "metadata": {
        "id": "o82v_SSbmo9_"
      },
      "source": [
        "# This won't print anything\n",
        "a = 0\n",
        "if a > 1:\n",
        "  print(a, \"is greater than 1\")"
      ],
      "execution_count": 87,
      "outputs": []
    },
    {
      "cell_type": "code",
      "metadata": {
        "id": "OByJ07Mymr_e",
        "outputId": "70b6bddb-5829-4554-b166-8cf9d57ab626",
        "colab": {
          "base_uri": "https://localhost:8080/",
          "height": 34
        }
      },
      "source": [
        "# Add an else - excecuted if the original if statement is False\n",
        "a = 0\n",
        "if a > 1:\n",
        "  print(a, \"is greater than 1\")\n",
        "else: # at indentation level of the original if\n",
        "  print(a, \"is less than 1\")"
      ],
      "execution_count": 88,
      "outputs": [
        {
          "output_type": "stream",
          "text": [
            "0 is less than 1\n"
          ],
          "name": "stdout"
        }
      ]
    },
    {
      "cell_type": "code",
      "metadata": {
        "id": "5vW4ufBcqpcL",
        "outputId": "cd2a3125-8d88-4e57-f741-2b89db0c21d1",
        "colab": {
          "base_uri": "https://localhost:8080/",
          "height": 34
        }
      },
      "source": [
        "# Ifs (and loops) can be nested:\n",
        "a = 5\n",
        "if a > 1:\n",
        "  if a < 9:\n",
        "    print(a, \"is greater than 1 and less than 9\")\n",
        "  else: # Note the levels of indentation\n",
        "    print(a,\"is greater than 9\")\n",
        "else:\n",
        "  print(a,\"is less than 1\")\n",
        "\n",
        "# try different values of a"
      ],
      "execution_count": 89,
      "outputs": [
        {
          "output_type": "stream",
          "text": [
            "5 is greater than 1 and less than 9\n"
          ],
          "name": "stdout"
        }
      ]
    },
    {
      "cell_type": "code",
      "metadata": {
        "id": "xzMO-__prNVp",
        "outputId": "0717c452-128d-4a85-8129-af323bb2c405",
        "colab": {
          "base_uri": "https://localhost:8080/",
          "height": 71
        }
      },
      "source": [
        "# We can use if statements to achieve complex things like:\n",
        "print(rocks)\n",
        "new_rock = \"Dolomite\"\n",
        "if new_rock not in rocks[\"Sedimentary\"]:\n",
        "  rocks[\"Sedimentary\"].append(new_rock)\n",
        "\n",
        "print(rocks)"
      ],
      "execution_count": 90,
      "outputs": [
        {
          "output_type": "stream",
          "text": [
            "{'igneous': ['Granite', 'Basalt', 'Rhyolite', 'Gabbro'], 'Sedimentary': ['Sandstone', 'Limestone'], 'metamorphic': ['Gneiss, Schist']}\n",
            "{'igneous': ['Granite', 'Basalt', 'Rhyolite', 'Gabbro'], 'Sedimentary': ['Sandstone', 'Limestone', 'Dolomite'], 'metamorphic': ['Gneiss, Schist']}\n"
          ],
          "name": "stdout"
        }
      ]
    },
    {
      "cell_type": "markdown",
      "metadata": {
        "id": "N6XORZivUIt1"
      },
      "source": [
        "## Part 2.7.2. (For) Loops\n",
        "The most common types of loop in python are for loops.\n",
        "For loops iterate over items in an iterable object (like a list). In other words: *for* each item in *x*, do *y*.\n",
        "We begin with the for statement, which defines the iterator and the variable name used to represent the individual items on each iteration of the loop, followed by the indented code to execute on each iteration:\n",
        "\n",
        "\n",
        "```\n",
        "for <item name> in <iterator>:\n",
        "        <code to execute>\n",
        "```\n",
        "\n",
        "\n"
      ]
    },
    {
      "cell_type": "code",
      "metadata": {
        "id": "LgpVv7Cqyfj5",
        "outputId": "ef5bdcbe-ee55-438d-edde-09c935d40e14",
        "colab": {
          "base_uri": "https://localhost:8080/",
          "height": 85
        }
      },
      "source": [
        "print(b)\n",
        "# Print each item in \"b\", one, by one\n",
        "for i in b:\n",
        "  print(i)"
      ],
      "execution_count": 91,
      "outputs": [
        {
          "output_type": "stream",
          "text": [
            "[1.5, 2.5, 3.5]\n",
            "1.5\n",
            "2.5\n",
            "3.5\n"
          ],
          "name": "stdout"
        }
      ]
    },
    {
      "cell_type": "code",
      "metadata": {
        "id": "Q4PW-EbFkw01",
        "outputId": "483ef2fe-27d0-4872-8a45-9230587be091",
        "colab": {
          "base_uri": "https://localhost:8080/",
          "height": 105
        }
      },
      "source": [
        "# Iterating over a dictionary returns its keys\n",
        "print(rocks)\n",
        "for k in rocks:\n",
        "  print(k)"
      ],
      "execution_count": 92,
      "outputs": [
        {
          "output_type": "stream",
          "text": [
            "{'igneous': ['Granite', 'Basalt', 'Rhyolite', 'Gabbro'], 'Sedimentary': ['Sandstone', 'Limestone', 'Dolomite'], 'metamorphic': ['Gneiss, Schist']}\n",
            "igneous\n",
            "Sedimentary\n",
            "metamorphic\n"
          ],
          "name": "stdout"
        }
      ]
    },
    {
      "cell_type": "code",
      "metadata": {
        "id": "cAVy5mO-lyWV",
        "outputId": "210e7363-9e0c-41a9-faa1-28008a54de80",
        "colab": {
          "base_uri": "https://localhost:8080/",
          "height": 153
        }
      },
      "source": [
        "# Loops can be nested\n",
        "for k in rocks: # Loop over the dict keys\n",
        "  for r in rocks[k]: # loop over the list items which are the values of the dict\n",
        "    print(r, \"is a\", k, \"rock\")"
      ],
      "execution_count": 93,
      "outputs": [
        {
          "output_type": "stream",
          "text": [
            "Granite is a igneous rock\n",
            "Basalt is a igneous rock\n",
            "Rhyolite is a igneous rock\n",
            "Gabbro is a igneous rock\n",
            "Sandstone is a Sedimentary rock\n",
            "Limestone is a Sedimentary rock\n",
            "Dolomite is a Sedimentary rock\n",
            "Gneiss, Schist is a metamorphic rock\n"
          ],
          "name": "stdout"
        }
      ]
    },
    {
      "cell_type": "code",
      "metadata": {
        "id": "Jj7b3kHe11GK",
        "outputId": "e09003ab-a73a-4ada-d598-0c4a77c10973",
        "colab": {
          "base_uri": "https://localhost:8080/",
          "height": 102
        }
      },
      "source": [
        "# the built-in range function allows iterating over a series of integers\n",
        "# try range? to see the help docs\n",
        "for i in range(5):\n",
        "  print(i)"
      ],
      "execution_count": 94,
      "outputs": [
        {
          "output_type": "stream",
          "text": [
            "0\n",
            "1\n",
            "2\n",
            "3\n",
            "4\n"
          ],
          "name": "stdout"
        }
      ]
    },
    {
      "cell_type": "code",
      "metadata": {
        "id": "FR8l9ZL8mk4A",
        "outputId": "7727042d-a7d8-456e-ba70-b9fa1fb09699",
        "colab": {
          "base_uri": "https://localhost:8080/",
          "height": 187
        }
      },
      "source": [
        "# We can do more interesting things in the loop:\n",
        "for i in range(10):\n",
        "  # First 10 powers of 2\n",
        "  x = 2 ** i\n",
        "  print(x)"
      ],
      "execution_count": 95,
      "outputs": [
        {
          "output_type": "stream",
          "text": [
            "1\n",
            "2\n",
            "4\n",
            "8\n",
            "16\n",
            "32\n",
            "64\n",
            "128\n",
            "256\n",
            "512\n"
          ],
          "name": "stdout"
        }
      ]
    },
    {
      "cell_type": "code",
      "metadata": {
        "id": "MDwzogVjmhEB",
        "outputId": "6b610dea-1be0-4052-f377-89c489d7e6ee",
        "colab": {
          "base_uri": "https://localhost:8080/",
          "height": 34
        }
      },
      "source": [
        "# Its common to want to create a list out of the results of the loop.\n",
        "# Create an empty list:\n",
        "powers = []\n",
        "for i in range(10):\n",
        "  x = 2 ** i\n",
        "  # append the result to the list\n",
        "  powers.append(x)\n",
        "\n",
        "print(powers)\n"
      ],
      "execution_count": 96,
      "outputs": [
        {
          "output_type": "stream",
          "text": [
            "[1, 2, 4, 8, 16, 32, 64, 128, 256, 512]\n"
          ],
          "name": "stdout"
        }
      ]
    },
    {
      "cell_type": "code",
      "metadata": {
        "id": "NVYCbI95xCtS",
        "outputId": "14a2d3df-25da-4bca-8ec9-aa74baffa030",
        "colab": {
          "base_uri": "https://localhost:8080/",
          "height": 34
        }
      },
      "source": [
        "rocks[\"igneous\"]"
      ],
      "execution_count": 97,
      "outputs": [
        {
          "output_type": "execute_result",
          "data": {
            "text/plain": [
              "['Granite', 'Basalt', 'Rhyolite', 'Gabbro']"
            ]
          },
          "metadata": {
            "tags": []
          },
          "execution_count": 97
        }
      ]
    },
    {
      "cell_type": "code",
      "metadata": {
        "id": "3EonQOdMpE59",
        "outputId": "4a7324b2-e96c-476a-c8d0-8b6b5bc0632a",
        "colab": {
          "base_uri": "https://localhost:8080/",
          "height": 85
        }
      },
      "source": [
        "\"\"\"Sometimes its helpful to know the iteration number as well.\n",
        "When the iterator contains more than one value (e.g. with enumerate, zip,\n",
        "dict.items() or lists of lists), one can \"unpack\" them by providing multiple\n",
        "variable names in the for statement.\n",
        "\"\"\"\n",
        "for c, i in enumerate(rocks[\"igneous\"]): # c is counter, i is object\n",
        "  print(\"The number\",c,\" igenous rock is\", i)"
      ],
      "execution_count": 98,
      "outputs": [
        {
          "output_type": "stream",
          "text": [
            "The number 0  igenous rock is Granite\n",
            "The number 1  igenous rock is Basalt\n",
            "The number 2  igenous rock is Rhyolite\n",
            "The number 3  igenous rock is Gabbro\n"
          ],
          "name": "stdout"
        }
      ]
    },
    {
      "cell_type": "code",
      "metadata": {
        "id": "sjH7wJb1mg8r",
        "outputId": "a96eaa98-b57b-475e-b76e-63c035e07654",
        "colab": {
          "base_uri": "https://localhost:8080/",
          "height": 34
        }
      },
      "source": [
        "# We can also combine loops and if statements:\n",
        "rocks_begining_with_g = []\n",
        "for rock in rocks[\"igneous\"]: # Loop over igneous rocks list\n",
        "  if rock[0] == \"G\": # See if first letter is G\n",
        "    rocks_begining_with_g.append(rock) # If so, append to list\n",
        "print(rocks_begining_with_g)"
      ],
      "execution_count": 99,
      "outputs": [
        {
          "output_type": "stream",
          "text": [
            "['Granite', 'Gabbro']\n"
          ],
          "name": "stdout"
        }
      ]
    },
    {
      "cell_type": "markdown",
      "metadata": {
        "id": "gi8R6RgvGH0t"
      },
      "source": [
        "# Part 2.8 - Flow control excercise - *Workshop: 15 minutes*"
      ]
    },
    {
      "cell_type": "code",
      "metadata": {
        "id": "rl-B9jB9MPLB"
      },
      "source": [
        "# Create the following lists using loops:\n",
        "# 1. [3,6,9,12,15,18....300] \n",
        "# 2. The above list by a different approach\n",
        "# 3. A list of all integers divisible by 3 and 7 between 1 and 1000\n"
      ],
      "execution_count": null,
      "outputs": []
    },
    {
      "cell_type": "code",
      "metadata": {
        "id": "dcETy7WEtSLw"
      },
      "source": [
        ""
      ],
      "execution_count": null,
      "outputs": []
    },
    {
      "cell_type": "markdown",
      "metadata": {
        "id": "JEuZRpzfGPNt"
      },
      "source": [
        "# Part 2.9 - Other python plotting libraries - *Mini-lecture*\n",
        "Matplotlib is by far the most popular plotting library for python. It is extremely powerful and flexible for creating static publication quality graphics. However, other plotting libraries exist with different focuses:\n",
        "\n",
        "* Matplotlib for static graphics, quick plotting and publication quality graphics, (integrated into many other libraries)\n",
        "* Plotly for interactive or static/publication quality\n",
        "* Bokeh for interactive/web plots\n",
        "* Seaborn for quick but powerful stats plots\n",
        "* Altair - different approach to making plots based on how we reason about data\n",
        "\n",
        "This example notebook provides examples of each:\n",
        "\n",
        "https://colab.research.google.com/notebooks/charts.ipynb#scrollTo=N-u5cYwpS-y0\n",
        "\n",
        "It is highly recommended to go through the examples and experiment with these libraries in your own time and in the assignments. However, be sure to also get experience with Matplotlib because it is so common.\n",
        "\n"
      ]
    },
    {
      "cell_type": "markdown",
      "metadata": {
        "id": "PDLhscsFVp7i"
      },
      "source": [
        "# Part 2.10 - Week 2 Assignment\n",
        "One of the most critical basic skills in data science is data visualisation, whether making quick plots to explore data, or publication quality graphics, or anything in between. Through this course we will routinely plot data in the classes and assignments.\n",
        "\n",
        "**Task**\n",
        "\n",
        "Create a Jupyter notebook in which you load data and make at least 2 different plots.\n",
        "\n",
        "*Datasets*\n",
        "\n",
        "You can use datasets from the ds4geo github repository (e.g. which were submitted as the week 1 assignment) or any dataset which you can load directly from a url (e.g. from http://www.pangaea.de).\n",
        "(At any time you can submit extra datasets to be hosted in the ds4geo repository for sharing with the rest of the class. Please follow the same instructions as for the Week 1 Assignment.)\n",
        "\n",
        "*Plots*\n",
        "\n",
        "You can make any type of plots (doesn't have to be a time-series), but the type should be appropriate to the data.\n",
        "The plots do not need to be very complicated, but try to make clear, readable and interesting plots to share with the rest of the class.\n",
        "\n",
        "For inspiration about types of plot, see here: https://colab.research.google.com/notebooks/charts.ipynb#scrollTo=N-u5cYwpS-y0\n",
        "\n",
        "*Libraries*\n",
        "\n",
        "You may use any python plotting library, but it is recommended to use Matplotlib (or its Pandas integration - see pd.DataFrame.plot?) unless you are already experienced with it.\n",
        "\n",
        "*How to get help*\n",
        "\n",
        "Don't be afraid to use google! Typing \"python\" followed by a description of what you want to do often results in useful Stackoverflow forum discussions with code snippets. e.g. \"python matplotlib two x axes\"\n",
        "\n",
        "If can't figure something out, note it down in your notebook. We will have the opportunity to answer such questions later in the course.\n",
        "\n",
        "Remember to comment you code!\n",
        "\n",
        "**Submission**\n",
        "\n",
        "* Submit the assignment here: https://github.com/ds4geo/ds4geo_ws2020/tree/master/Assignments/Session%202\n",
        "* See readme about how to use github for assessment submissions here: https://github.com/ds4geo/ds4geo/blob/master/Github%20Assignment%20Readme.md\n",
        "* The **deadline** is 23:59 on 20th October 2020.\n",
        "* This assignment comprises 5% of the assessment for the course. Marks are awarded for effort.\n",
        "\n",
        "Submitted notebooks are available to the whole class, and will be discussed in Session 3.\n",
        "\n"
      ]
    },
    {
      "cell_type": "code",
      "metadata": {
        "id": "uqbWp_kr3xMx"
      },
      "source": [
        ""
      ],
      "execution_count": null,
      "outputs": []
    }
  ]
}