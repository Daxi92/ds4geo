{
  "nbformat": 4,
  "nbformat_minor": 0,
  "metadata": {
    "colab": {
      "name": "Session 9.ipynb",
      "provenance": [],
      "authorship_tag": "ABX9TyNGLEZuD/EMPuqJNI5JRh4V",
      "include_colab_link": true
    },
    "kernelspec": {
      "name": "python3",
      "display_name": "Python 3"
    }
  },
  "cells": [
    {
      "cell_type": "markdown",
      "metadata": {
        "id": "view-in-github",
        "colab_type": "text"
      },
      "source": [
        "<a href=\"https://colab.research.google.com/github/ds4geo/ds4geo/blob/master/WS%202020%20Course%20Notes/Session%209.ipynb\" target=\"_parent\"><img src=\"https://colab.research.google.com/assets/colab-badge.svg\" alt=\"Open In Colab\"/></a>"
      ]
    },
    {
      "cell_type": "markdown",
      "metadata": {
        "id": "0mAVyPptn_q0",
        "colab_type": "text"
      },
      "source": [
        "Session 9"
      ]
    },
    {
      "cell_type": "markdown",
      "metadata": {
        "id": "7cnjZYqwn_g6",
        "colab_type": "text"
      },
      "source": [
        "Supervised ML and Deep learning"
      ]
    },
    {
      "cell_type": "code",
      "metadata": {
        "id": "pvD4Qwi_n9vf",
        "colab_type": "code",
        "colab": {}
      },
      "source": [
        ""
      ],
      "execution_count": null,
      "outputs": []
    }
  ]
}
