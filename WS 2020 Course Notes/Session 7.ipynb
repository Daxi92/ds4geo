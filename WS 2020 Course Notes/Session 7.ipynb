{
  "nbformat": 4,
  "nbformat_minor": 0,
  "metadata": {
    "colab": {
      "name": "Session 7.ipynb",
      "provenance": [],
      "authorship_tag": "ABX9TyPkcwVGNcyqXZ8ve2+Hu+P8",
      "include_colab_link": true
    },
    "kernelspec": {
      "name": "python3",
      "display_name": "Python 3"
    }
  },
  "cells": [
    {
      "cell_type": "markdown",
      "metadata": {
        "id": "view-in-github",
        "colab_type": "text"
      },
      "source": [
        "<a href=\"https://colab.research.google.com/github/ds4geo/ds4geo/blob/master/WS%202020%20Course%20Notes/Session%207.ipynb\" target=\"_parent\"><img src=\"https://colab.research.google.com/assets/colab-badge.svg\" alt=\"Open In Colab\"/></a>"
      ]
    },
    {
      "cell_type": "markdown",
      "metadata": {
        "id": "li4pJQUSDM2g"
      },
      "source": [
        "# TODO"
      ]
    },
    {
      "cell_type": "markdown",
      "metadata": {
        "id": "nxwb308wnGd2"
      },
      "source": [
        "# **Data Science for Geoscientists - Winter Semester 2020**\n",
        "# **Session 6 - Regressions - 11th November 2020**"
      ]
    },
    {
      "cell_type": "markdown",
      "metadata": {
        "id": "260v-T44nGQv"
      },
      "source": [
        "Multivariate stats, regressions, curve fitting\n",
        "Introduce main project"
      ]
    },
    {
      "cell_type": "code",
      "metadata": {
        "id": "35PczK1ZnDKo"
      },
      "source": [
        ""
      ],
      "execution_count": null,
      "outputs": []
    },
    {
      "cell_type": "markdown",
      "metadata": {
        "id": "0ZJjy0T8Dsmy"
      },
      "source": [
        "# Part 6.1 - Ice Breaker - *Discussion*"
      ]
    },
    {
      "cell_type": "markdown",
      "metadata": {
        "id": "JKpUcGvlDxWK"
      },
      "source": [
        "# Part 6.2 - Introduction to Regressions - *Mini-lecture*"
      ]
    },
    {
      "cell_type": "markdown",
      "metadata": {
        "id": "yhkiHR-bEiDF"
      },
      "source": [
        "# Part 6.3 - Linear Regression Excercise - *Workshop*\n",
        "\n"
      ]
    },
    {
      "cell_type": "markdown",
      "metadata": {
        "id": "R4Y6HiKCE9oN"
      },
      "source": [
        "# Part 6.4 - Data Description Excercise - *Workshop*"
      ]
    },
    {
      "cell_type": "markdown",
      "metadata": {
        "id": "OBoWHUUCFNi4"
      },
      "source": [
        "# Part 6.5 - Robustness of Statistics - *Mini-lecture*"
      ]
    },
    {
      "cell_type": "markdown",
      "metadata": {
        "id": "s4ShnF_AFee2"
      },
      "source": [
        "# Part 6.6 - Time Series Comparisons - *Mini-lecture*"
      ]
    },
    {
      "cell_type": "markdown",
      "metadata": {
        "id": "Jg6_TUE5Fkdt"
      },
      "source": [
        "# Part 6.7 - Time Series Comparisons Excercise - *Workshop*"
      ]
    },
    {
      "cell_type": "markdown",
      "metadata": {
        "id": "zJp_ZNvzF2c0"
      },
      "source": [
        "# Part 6.8 - Open Time Series Workshop - *Workshop*"
      ]
    },
    {
      "cell_type": "markdown",
      "metadata": {
        "id": "0nsOGKU7F8pw"
      },
      "source": [
        "# Part 6.9 - Assignment"
      ]
    },
    {
      "cell_type": "markdown",
      "metadata": {
        "id": "neppBlZeDC-E"
      },
      "source": [
        ""
      ]
    }
  ]
}
